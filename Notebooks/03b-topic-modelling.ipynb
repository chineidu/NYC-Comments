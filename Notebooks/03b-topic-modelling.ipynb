{
 "cells": [
  {
   "cell_type": "markdown",
   "metadata": {},
   "source": [
    "# Topic Modeling\n",
    "\n",
    "- Using Gensim (LDA, LSI, HDP, etc)"
   ]
  },
  {
   "cell_type": "code",
   "execution_count": 1,
   "metadata": {},
   "outputs": [
    {
     "name": "stdout",
     "output_type": "stream",
     "text": [
      "Python implementation: CPython\n",
      "Python version       : 3.10.8\n",
      "IPython version      : 8.26.0\n",
      "\n",
      "numpy    : 1.26.0\n",
      "pandas   : 2.2.2\n",
      "polars   : 1.4.1\n",
      "mlxtend  : 0.23.1\n",
      "omegaconf: not installed\n",
      "gensim   : 4.3.3\n",
      "\n",
      "conda environment: n/a\n",
      "\n"
     ]
    }
   ],
   "source": [
    "%load_ext watermark\n",
    "%watermark -v -p numpy,pandas,polars,mlxtend,omegaconf,gensim --conda"
   ]
  },
  {
   "cell_type": "code",
   "execution_count": 2,
   "metadata": {},
   "outputs": [],
   "source": [
    "# Built-in library\n",
    "from pathlib import Path\n",
    "from pathlib import Path\n",
    "import re\n",
    "import json\n",
    "from typing import Any, Optional, Union\n",
    "import logging\n",
    "import warnings\n",
    "\n",
    "# Standard imports\n",
    "import numpy as np\n",
    "import numpy.typing as npt\n",
    "from pprint import pprint\n",
    "import pandas as pd\n",
    "import polars as pl\n",
    "from rich.console import Console\n",
    "from rich.theme import Theme\n",
    "\n",
    "custom_theme = Theme(\n",
    "    {\n",
    "        \"info\": \"#76FF7B\",\n",
    "        \"warning\": \"#FBDDFE\",\n",
    "        \"error\": \"#FF0000\",\n",
    "    }\n",
    ")\n",
    "console = Console(theme=custom_theme)\n",
    "\n",
    "# Visualization\n",
    "import matplotlib.pyplot as plt\n",
    "\n",
    "# NumPy settings\n",
    "np.set_printoptions(precision=4)\n",
    "\n",
    "# Pandas settings\n",
    "pd.options.display.max_rows = 1_000\n",
    "pd.options.display.max_columns = 1_000\n",
    "pd.options.display.max_colwidth = 600\n",
    "\n",
    "# Polars settings\n",
    "pl.Config.set_fmt_str_lengths(1_000)\n",
    "pl.Config.set_tbl_cols(n=1_000)\n",
    "pl.Config.set_tbl_rows(n=200)\n",
    "\n",
    "warnings.filterwarnings(\"ignore\")\n",
    "\n",
    "\n",
    "# auto reload imports# Built-in library\n",
    "from pathlib import Path\n",
    "import re\n",
    "import json\n",
    "from typing import Any, Optional, Union\n",
    "import logging\n",
    "import warnings\n",
    "\n",
    "# Standard imports\n",
    "import numpy as np\n",
    "import numpy.typing as npt\n",
    "from pprint import pprint\n",
    "import pandas as pd\n",
    "import polars as pl\n",
    "from rich.console import Console\n",
    "from rich.theme import Theme\n",
    "\n",
    "custom_theme = Theme(\n",
    "    {\n",
    "        \"info\": \"#76FF7B\",\n",
    "        \"warning\": \"#FBDDFE\",\n",
    "        \"error\": \"#FF0000\",\n",
    "    }\n",
    ")\n",
    "console = Console(theme=custom_theme)\n",
    "\n",
    "# Visualization\n",
    "import matplotlib.pyplot as plt\n",
    "\n",
    "# NumPy settings\n",
    "np.set_printoptions(precision=4)\n",
    "\n",
    "# Pandas settings\n",
    "pd.options.display.max_rows = 1_000\n",
    "pd.options.display.max_columns = 1_000\n",
    "pd.options.display.max_colwidth = 600\n",
    "\n",
    "# Polars settings\n",
    "pl.Config.set_fmt_str_lengths(1_000)\n",
    "pl.Config.set_tbl_cols(n=1_000)\n",
    "pl.Config.set_tbl_rows(500)\n",
    "\n",
    "warnings.filterwarnings(\"ignore\")\n",
    "\n",
    "\n",
    "# Black code formatter (Optional)\n",
    "%load_ext lab_black\n",
    "\n",
    "# auto reload imports\n",
    "%load_ext autoreload\n",
    "%autoreload 2"
   ]
  },
  {
   "cell_type": "markdown",
   "metadata": {},
   "source": [
    "<br>\n",
    "\n",
    "# [Gensim](https://radimrehurek.com/gensim/index.html)\n",
    "\n",
    "- `Gensim` = **“Generate Similar”**\n",
    "- Gensim is a free open-source Python library for representing documents as semantic vectors, as efficiently (computer-wise) and painlessly (human-wise) as possible.\n",
    "- It's designed to process raw, unstructured digital texts (“plain text”) using unsupervised machine learning algorithms.\n",
    "\n",
    "#### Installation\n",
    "\n",
    "```sh\n",
    "pip install --upgrade gensim\n",
    "\n",
    "```\n",
    "\n",
    "### Use cases\n",
    "\n",
    "- Train large-scale NLP semantic models.\n",
    "- Represent text as semantic vectors.\n",
    "- Find semantically related documents.\n",
    "\n",
    "\n",
    "### Core Concepts of Gensim\n",
    "\n",
    "- `Document`: some text.\n",
    "- `Corpus`: a collection of documents.\n",
    "- `Vector`: a mathematically convenient representation of a document.\n",
    "- `Model`: an algorithm for transforming vectors from one representation to another."
   ]
  },
  {
   "cell_type": "code",
   "execution_count": 3,
   "metadata": {},
   "outputs": [],
   "source": [
    "import gensim"
   ]
  },
  {
   "cell_type": "code",
   "execution_count": 4,
   "metadata": {},
   "outputs": [
    {
     "name": "stdout",
     "output_type": "stream",
     "text": [
      "stopwords = {'to', 'and', 'the', 'of', 'a', 'for', 'in'}\n"
     ]
    },
    {
     "data": {
      "text/html": [
       "<pre style=\"white-space:pre;overflow-x:auto;line-height:normal;font-family:Menlo,'DejaVu Sans Mono',consolas,'Courier New',monospace\">texts = <span style=\"font-weight: bold\">[[</span><span style=\"color: #008000; text-decoration-color: #008000\">'human'</span>, <span style=\"color: #008000; text-decoration-color: #008000\">'machine'</span>, <span style=\"color: #008000; text-decoration-color: #008000\">'interface'</span>, <span style=\"color: #008000; text-decoration-color: #008000\">'lab'</span>, <span style=\"color: #008000; text-decoration-color: #008000\">'abc'</span>, <span style=\"color: #008000; text-decoration-color: #008000\">'computer'</span>, <span style=\"color: #008000; text-decoration-color: #008000\">'applications'</span><span style=\"font-weight: bold\">]</span>, <span style=\"font-weight: bold\">[</span><span style=\"color: #008000; text-decoration-color: #008000\">'survey'</span>, <span style=\"color: #008000; text-decoration-color: #008000\">'user'</span>, <span style=\"color: #008000; text-decoration-color: #008000\">'opinion'</span>,\n",
       "<span style=\"color: #008000; text-decoration-color: #008000\">'computer'</span>, <span style=\"color: #008000; text-decoration-color: #008000\">'system'</span>, <span style=\"color: #008000; text-decoration-color: #008000\">'response'</span>, <span style=\"color: #008000; text-decoration-color: #008000\">'time'</span><span style=\"font-weight: bold\">]</span>, <span style=\"font-weight: bold\">[</span><span style=\"color: #008000; text-decoration-color: #008000\">'eps'</span>, <span style=\"color: #008000; text-decoration-color: #008000\">'user'</span>, <span style=\"color: #008000; text-decoration-color: #008000\">'interface'</span>, <span style=\"color: #008000; text-decoration-color: #008000\">'management'</span>, <span style=\"color: #008000; text-decoration-color: #008000\">'system'</span><span style=\"font-weight: bold\">]</span>, <span style=\"font-weight: bold\">[</span><span style=\"color: #008000; text-decoration-color: #008000\">'system'</span>, \n",
       "<span style=\"color: #008000; text-decoration-color: #008000\">'human'</span>, <span style=\"color: #008000; text-decoration-color: #008000\">'system'</span>, <span style=\"color: #008000; text-decoration-color: #008000\">'engineering'</span>, <span style=\"color: #008000; text-decoration-color: #008000\">'testing'</span>, <span style=\"color: #008000; text-decoration-color: #008000\">'eps'</span><span style=\"font-weight: bold\">]</span>, <span style=\"font-weight: bold\">[</span><span style=\"color: #008000; text-decoration-color: #008000\">'relation'</span>, <span style=\"color: #008000; text-decoration-color: #008000\">'user'</span>, <span style=\"color: #008000; text-decoration-color: #008000\">'perceived'</span>, <span style=\"color: #008000; text-decoration-color: #008000\">'response'</span>, <span style=\"color: #008000; text-decoration-color: #008000\">'time'</span>, <span style=\"color: #008000; text-decoration-color: #008000\">'error'</span>,\n",
       "<span style=\"color: #008000; text-decoration-color: #008000\">'measurement'</span><span style=\"font-weight: bold\">]</span>, <span style=\"font-weight: bold\">[</span><span style=\"color: #008000; text-decoration-color: #008000\">'generation'</span>, <span style=\"color: #008000; text-decoration-color: #008000\">'random'</span>, <span style=\"color: #008000; text-decoration-color: #008000\">'binary'</span>, <span style=\"color: #008000; text-decoration-color: #008000\">'unordered'</span>, <span style=\"color: #008000; text-decoration-color: #008000\">'trees'</span><span style=\"font-weight: bold\">]</span>, <span style=\"font-weight: bold\">[</span><span style=\"color: #008000; text-decoration-color: #008000\">'intersection'</span>, <span style=\"color: #008000; text-decoration-color: #008000\">'graph'</span>, <span style=\"color: #008000; text-decoration-color: #008000\">'paths'</span>, \n",
       "<span style=\"color: #008000; text-decoration-color: #008000\">'trees'</span><span style=\"font-weight: bold\">]</span>, <span style=\"font-weight: bold\">[</span><span style=\"color: #008000; text-decoration-color: #008000\">'graph'</span>, <span style=\"color: #008000; text-decoration-color: #008000\">'minors'</span>, <span style=\"color: #008000; text-decoration-color: #008000\">'iv'</span>, <span style=\"color: #008000; text-decoration-color: #008000\">'widths'</span>, <span style=\"color: #008000; text-decoration-color: #008000\">'trees'</span>, <span style=\"color: #008000; text-decoration-color: #008000\">'well'</span>, <span style=\"color: #008000; text-decoration-color: #008000\">'quasi'</span>, <span style=\"color: #008000; text-decoration-color: #008000\">'ordering'</span><span style=\"font-weight: bold\">]</span>, <span style=\"font-weight: bold\">[</span><span style=\"color: #008000; text-decoration-color: #008000\">'graph'</span>, <span style=\"color: #008000; text-decoration-color: #008000\">'minors'</span>, <span style=\"color: #008000; text-decoration-color: #008000\">'survey'</span><span style=\"font-weight: bold\">]]</span>\n",
       "</pre>\n"
      ],
      "text/plain": [
       "texts = \u001b[1m[\u001b[0m\u001b[1m[\u001b[0m\u001b[32m'human'\u001b[0m, \u001b[32m'machine'\u001b[0m, \u001b[32m'interface'\u001b[0m, \u001b[32m'lab'\u001b[0m, \u001b[32m'abc'\u001b[0m, \u001b[32m'computer'\u001b[0m, \u001b[32m'applications'\u001b[0m\u001b[1m]\u001b[0m, \u001b[1m[\u001b[0m\u001b[32m'survey'\u001b[0m, \u001b[32m'user'\u001b[0m, \u001b[32m'opinion'\u001b[0m,\n",
       "\u001b[32m'computer'\u001b[0m, \u001b[32m'system'\u001b[0m, \u001b[32m'response'\u001b[0m, \u001b[32m'time'\u001b[0m\u001b[1m]\u001b[0m, \u001b[1m[\u001b[0m\u001b[32m'eps'\u001b[0m, \u001b[32m'user'\u001b[0m, \u001b[32m'interface'\u001b[0m, \u001b[32m'management'\u001b[0m, \u001b[32m'system'\u001b[0m\u001b[1m]\u001b[0m, \u001b[1m[\u001b[0m\u001b[32m'system'\u001b[0m, \n",
       "\u001b[32m'human'\u001b[0m, \u001b[32m'system'\u001b[0m, \u001b[32m'engineering'\u001b[0m, \u001b[32m'testing'\u001b[0m, \u001b[32m'eps'\u001b[0m\u001b[1m]\u001b[0m, \u001b[1m[\u001b[0m\u001b[32m'relation'\u001b[0m, \u001b[32m'user'\u001b[0m, \u001b[32m'perceived'\u001b[0m, \u001b[32m'response'\u001b[0m, \u001b[32m'time'\u001b[0m, \u001b[32m'error'\u001b[0m,\n",
       "\u001b[32m'measurement'\u001b[0m\u001b[1m]\u001b[0m, \u001b[1m[\u001b[0m\u001b[32m'generation'\u001b[0m, \u001b[32m'random'\u001b[0m, \u001b[32m'binary'\u001b[0m, \u001b[32m'unordered'\u001b[0m, \u001b[32m'trees'\u001b[0m\u001b[1m]\u001b[0m, \u001b[1m[\u001b[0m\u001b[32m'intersection'\u001b[0m, \u001b[32m'graph'\u001b[0m, \u001b[32m'paths'\u001b[0m, \n",
       "\u001b[32m'trees'\u001b[0m\u001b[1m]\u001b[0m, \u001b[1m[\u001b[0m\u001b[32m'graph'\u001b[0m, \u001b[32m'minors'\u001b[0m, \u001b[32m'iv'\u001b[0m, \u001b[32m'widths'\u001b[0m, \u001b[32m'trees'\u001b[0m, \u001b[32m'well'\u001b[0m, \u001b[32m'quasi'\u001b[0m, \u001b[32m'ordering'\u001b[0m\u001b[1m]\u001b[0m, \u001b[1m[\u001b[0m\u001b[32m'graph'\u001b[0m, \u001b[32m'minors'\u001b[0m, \u001b[32m'survey'\u001b[0m\u001b[1m]\u001b[0m\u001b[1m]\u001b[0m\n"
      ]
     },
     "metadata": {},
     "output_type": "display_data"
    }
   ],
   "source": [
    "# Demonstartion purpose only! Gensim handles large corpora by streaming documents,\n",
    "# avoiding memory overload.\n",
    "text_corpus: list[str] = [\n",
    "    \"Human machine interface for lab abc computer applications\",\n",
    "    \"A survey of user opinion of computer system response time\",\n",
    "    \"The EPS user interface management system\",\n",
    "    \"System and human system engineering testing of EPS\",\n",
    "    \"Relation of user perceived response time to error measurement\",\n",
    "    \"The generation of random binary unordered trees\",\n",
    "    \"The intersection graph of paths in trees\",\n",
    "    \"Graph minors IV Widths of trees and well quasi ordering\",\n",
    "    \"Graph minors A survey\",\n",
    "]\n",
    "\n",
    "# Create a set of frequent words\n",
    "stopwords: set[str] = set(\"for a of the and to in\".split())\n",
    "print(f\"{stopwords = }\")\n",
    "\n",
    "# Lowercase each document, split it by white space and filter out stopwords\n",
    "texts: list[list[str]] = [\n",
    "    [word for word in document.lower().split() if word not in stopwords]\n",
    "    for document in text_corpus\n",
    "]\n",
    "console.print(f\"{texts = }\")"
   ]
  },
  {
   "cell_type": "code",
   "execution_count": 5,
   "metadata": {},
   "outputs": [
    {
     "data": {
      "text/html": [
       "<pre style=\"white-space:pre;overflow-x:auto;line-height:normal;font-family:Menlo,'DejaVu Sans Mono',consolas,'Courier New',monospace\">frequency = <span style=\"color: #800080; text-decoration-color: #800080; font-weight: bold\">defaultdict</span><span style=\"font-weight: bold\">(&lt;</span><span style=\"color: #ff00ff; text-decoration-color: #ff00ff; font-weight: bold\">class</span><span style=\"color: #000000; text-decoration-color: #000000\"> </span><span style=\"color: #008000; text-decoration-color: #008000\">'int'</span><span style=\"font-weight: bold\">&gt;</span>, <span style=\"font-weight: bold\">{</span><span style=\"color: #008000; text-decoration-color: #008000\">'human'</span>: <span style=\"color: #008080; text-decoration-color: #008080; font-weight: bold\">2</span>, <span style=\"color: #008000; text-decoration-color: #008000\">'machine'</span>: <span style=\"color: #008080; text-decoration-color: #008080; font-weight: bold\">1</span>, <span style=\"color: #008000; text-decoration-color: #008000\">'interface'</span>: <span style=\"color: #008080; text-decoration-color: #008080; font-weight: bold\">2</span>, <span style=\"color: #008000; text-decoration-color: #008000\">'lab'</span>: <span style=\"color: #008080; text-decoration-color: #008080; font-weight: bold\">1</span>, <span style=\"color: #008000; text-decoration-color: #008000\">'abc'</span>: <span style=\"color: #008080; text-decoration-color: #008080; font-weight: bold\">1</span>, <span style=\"color: #008000; text-decoration-color: #008000\">'computer'</span>: \n",
       "<span style=\"color: #008080; text-decoration-color: #008080; font-weight: bold\">2</span>, <span style=\"color: #008000; text-decoration-color: #008000\">'applications'</span>: <span style=\"color: #008080; text-decoration-color: #008080; font-weight: bold\">1</span>, <span style=\"color: #008000; text-decoration-color: #008000\">'survey'</span>: <span style=\"color: #008080; text-decoration-color: #008080; font-weight: bold\">2</span>, <span style=\"color: #008000; text-decoration-color: #008000\">'user'</span>: <span style=\"color: #008080; text-decoration-color: #008080; font-weight: bold\">3</span>, <span style=\"color: #008000; text-decoration-color: #008000\">'opinion'</span>: <span style=\"color: #008080; text-decoration-color: #008080; font-weight: bold\">1</span>, <span style=\"color: #008000; text-decoration-color: #008000\">'system'</span>: <span style=\"color: #008080; text-decoration-color: #008080; font-weight: bold\">4</span>, <span style=\"color: #008000; text-decoration-color: #008000\">'response'</span>: <span style=\"color: #008080; text-decoration-color: #008080; font-weight: bold\">2</span>, <span style=\"color: #008000; text-decoration-color: #008000\">'time'</span>: <span style=\"color: #008080; text-decoration-color: #008080; font-weight: bold\">2</span>, <span style=\"color: #008000; text-decoration-color: #008000\">'eps'</span>: <span style=\"color: #008080; text-decoration-color: #008080; font-weight: bold\">2</span>, \n",
       "<span style=\"color: #008000; text-decoration-color: #008000\">'management'</span>: <span style=\"color: #008080; text-decoration-color: #008080; font-weight: bold\">1</span>, <span style=\"color: #008000; text-decoration-color: #008000\">'engineering'</span>: <span style=\"color: #008080; text-decoration-color: #008080; font-weight: bold\">1</span>, <span style=\"color: #008000; text-decoration-color: #008000\">'testing'</span>: <span style=\"color: #008080; text-decoration-color: #008080; font-weight: bold\">1</span>, <span style=\"color: #008000; text-decoration-color: #008000\">'relation'</span>: <span style=\"color: #008080; text-decoration-color: #008080; font-weight: bold\">1</span>, <span style=\"color: #008000; text-decoration-color: #008000\">'perceived'</span>: <span style=\"color: #008080; text-decoration-color: #008080; font-weight: bold\">1</span>, <span style=\"color: #008000; text-decoration-color: #008000\">'error'</span>: <span style=\"color: #008080; text-decoration-color: #008080; font-weight: bold\">1</span>, <span style=\"color: #008000; text-decoration-color: #008000\">'measurement'</span>: <span style=\"color: #008080; text-decoration-color: #008080; font-weight: bold\">1</span>, \n",
       "<span style=\"color: #008000; text-decoration-color: #008000\">'generation'</span>: <span style=\"color: #008080; text-decoration-color: #008080; font-weight: bold\">1</span>, <span style=\"color: #008000; text-decoration-color: #008000\">'random'</span>: <span style=\"color: #008080; text-decoration-color: #008080; font-weight: bold\">1</span>, <span style=\"color: #008000; text-decoration-color: #008000\">'binary'</span>: <span style=\"color: #008080; text-decoration-color: #008080; font-weight: bold\">1</span>, <span style=\"color: #008000; text-decoration-color: #008000\">'unordered'</span>: <span style=\"color: #008080; text-decoration-color: #008080; font-weight: bold\">1</span>, <span style=\"color: #008000; text-decoration-color: #008000\">'trees'</span>: <span style=\"color: #008080; text-decoration-color: #008080; font-weight: bold\">3</span>, <span style=\"color: #008000; text-decoration-color: #008000\">'intersection'</span>: <span style=\"color: #008080; text-decoration-color: #008080; font-weight: bold\">1</span>, <span style=\"color: #008000; text-decoration-color: #008000\">'graph'</span>: <span style=\"color: #008080; text-decoration-color: #008080; font-weight: bold\">3</span>, <span style=\"color: #008000; text-decoration-color: #008000\">'paths'</span>: <span style=\"color: #008080; text-decoration-color: #008080; font-weight: bold\">1</span>, \n",
       "<span style=\"color: #008000; text-decoration-color: #008000\">'minors'</span>: <span style=\"color: #008080; text-decoration-color: #008080; font-weight: bold\">2</span>, <span style=\"color: #008000; text-decoration-color: #008000\">'iv'</span>: <span style=\"color: #008080; text-decoration-color: #008080; font-weight: bold\">1</span>, <span style=\"color: #008000; text-decoration-color: #008000\">'widths'</span>: <span style=\"color: #008080; text-decoration-color: #008080; font-weight: bold\">1</span>, <span style=\"color: #008000; text-decoration-color: #008000\">'well'</span>: <span style=\"color: #008080; text-decoration-color: #008080; font-weight: bold\">1</span>, <span style=\"color: #008000; text-decoration-color: #008000\">'quasi'</span>: <span style=\"color: #008080; text-decoration-color: #008080; font-weight: bold\">1</span>, <span style=\"color: #008000; text-decoration-color: #008000\">'ordering'</span>: <span style=\"color: #008080; text-decoration-color: #008080; font-weight: bold\">1</span><span style=\"font-weight: bold\">})</span>\n",
       "</pre>\n"
      ],
      "text/plain": [
       "frequency = \u001b[1;35mdefaultdict\u001b[0m\u001b[1m(\u001b[0m\u001b[1m<\u001b[0m\u001b[1;95mclass\u001b[0m\u001b[39m \u001b[0m\u001b[32m'int'\u001b[0m\u001b[1m>\u001b[0m, \u001b[1m{\u001b[0m\u001b[32m'human'\u001b[0m: \u001b[1;36m2\u001b[0m, \u001b[32m'machine'\u001b[0m: \u001b[1;36m1\u001b[0m, \u001b[32m'interface'\u001b[0m: \u001b[1;36m2\u001b[0m, \u001b[32m'lab'\u001b[0m: \u001b[1;36m1\u001b[0m, \u001b[32m'abc'\u001b[0m: \u001b[1;36m1\u001b[0m, \u001b[32m'computer'\u001b[0m: \n",
       "\u001b[1;36m2\u001b[0m, \u001b[32m'applications'\u001b[0m: \u001b[1;36m1\u001b[0m, \u001b[32m'survey'\u001b[0m: \u001b[1;36m2\u001b[0m, \u001b[32m'user'\u001b[0m: \u001b[1;36m3\u001b[0m, \u001b[32m'opinion'\u001b[0m: \u001b[1;36m1\u001b[0m, \u001b[32m'system'\u001b[0m: \u001b[1;36m4\u001b[0m, \u001b[32m'response'\u001b[0m: \u001b[1;36m2\u001b[0m, \u001b[32m'time'\u001b[0m: \u001b[1;36m2\u001b[0m, \u001b[32m'eps'\u001b[0m: \u001b[1;36m2\u001b[0m, \n",
       "\u001b[32m'management'\u001b[0m: \u001b[1;36m1\u001b[0m, \u001b[32m'engineering'\u001b[0m: \u001b[1;36m1\u001b[0m, \u001b[32m'testing'\u001b[0m: \u001b[1;36m1\u001b[0m, \u001b[32m'relation'\u001b[0m: \u001b[1;36m1\u001b[0m, \u001b[32m'perceived'\u001b[0m: \u001b[1;36m1\u001b[0m, \u001b[32m'error'\u001b[0m: \u001b[1;36m1\u001b[0m, \u001b[32m'measurement'\u001b[0m: \u001b[1;36m1\u001b[0m, \n",
       "\u001b[32m'generation'\u001b[0m: \u001b[1;36m1\u001b[0m, \u001b[32m'random'\u001b[0m: \u001b[1;36m1\u001b[0m, \u001b[32m'binary'\u001b[0m: \u001b[1;36m1\u001b[0m, \u001b[32m'unordered'\u001b[0m: \u001b[1;36m1\u001b[0m, \u001b[32m'trees'\u001b[0m: \u001b[1;36m3\u001b[0m, \u001b[32m'intersection'\u001b[0m: \u001b[1;36m1\u001b[0m, \u001b[32m'graph'\u001b[0m: \u001b[1;36m3\u001b[0m, \u001b[32m'paths'\u001b[0m: \u001b[1;36m1\u001b[0m, \n",
       "\u001b[32m'minors'\u001b[0m: \u001b[1;36m2\u001b[0m, \u001b[32m'iv'\u001b[0m: \u001b[1;36m1\u001b[0m, \u001b[32m'widths'\u001b[0m: \u001b[1;36m1\u001b[0m, \u001b[32m'well'\u001b[0m: \u001b[1;36m1\u001b[0m, \u001b[32m'quasi'\u001b[0m: \u001b[1;36m1\u001b[0m, \u001b[32m'ordering'\u001b[0m: \u001b[1;36m1\u001b[0m\u001b[1m}\u001b[0m\u001b[1m)\u001b[0m\n"
      ]
     },
     "metadata": {},
     "output_type": "display_data"
    },
    {
     "data": {
      "text/html": [
       "<pre style=\"white-space:pre;overflow-x:auto;line-height:normal;font-family:Menlo,'DejaVu Sans Mono',consolas,'Courier New',monospace\">processed_corpus = <span style=\"font-weight: bold\">[[</span><span style=\"color: #008000; text-decoration-color: #008000\">'human'</span>, <span style=\"color: #008000; text-decoration-color: #008000\">'interface'</span>, <span style=\"color: #008000; text-decoration-color: #008000\">'computer'</span><span style=\"font-weight: bold\">]</span>, <span style=\"font-weight: bold\">[</span><span style=\"color: #008000; text-decoration-color: #008000\">'survey'</span>, <span style=\"color: #008000; text-decoration-color: #008000\">'user'</span>, <span style=\"color: #008000; text-decoration-color: #008000\">'computer'</span>, <span style=\"color: #008000; text-decoration-color: #008000\">'system'</span>, <span style=\"color: #008000; text-decoration-color: #008000\">'response'</span>, \n",
       "<span style=\"color: #008000; text-decoration-color: #008000\">'time'</span><span style=\"font-weight: bold\">]</span>, <span style=\"font-weight: bold\">[</span><span style=\"color: #008000; text-decoration-color: #008000\">'eps'</span>, <span style=\"color: #008000; text-decoration-color: #008000\">'user'</span>, <span style=\"color: #008000; text-decoration-color: #008000\">'interface'</span>, <span style=\"color: #008000; text-decoration-color: #008000\">'system'</span><span style=\"font-weight: bold\">]</span>, <span style=\"font-weight: bold\">[</span><span style=\"color: #008000; text-decoration-color: #008000\">'system'</span>, <span style=\"color: #008000; text-decoration-color: #008000\">'human'</span>, <span style=\"color: #008000; text-decoration-color: #008000\">'system'</span>, <span style=\"color: #008000; text-decoration-color: #008000\">'eps'</span><span style=\"font-weight: bold\">]</span>, <span style=\"font-weight: bold\">[</span><span style=\"color: #008000; text-decoration-color: #008000\">'user'</span>, <span style=\"color: #008000; text-decoration-color: #008000\">'response'</span>, \n",
       "<span style=\"color: #008000; text-decoration-color: #008000\">'time'</span><span style=\"font-weight: bold\">]</span>, <span style=\"font-weight: bold\">[</span><span style=\"color: #008000; text-decoration-color: #008000\">'trees'</span><span style=\"font-weight: bold\">]</span>, <span style=\"font-weight: bold\">[</span><span style=\"color: #008000; text-decoration-color: #008000\">'graph'</span>, <span style=\"color: #008000; text-decoration-color: #008000\">'trees'</span><span style=\"font-weight: bold\">]</span>, <span style=\"font-weight: bold\">[</span><span style=\"color: #008000; text-decoration-color: #008000\">'graph'</span>, <span style=\"color: #008000; text-decoration-color: #008000\">'minors'</span>, <span style=\"color: #008000; text-decoration-color: #008000\">'trees'</span><span style=\"font-weight: bold\">]</span>, <span style=\"font-weight: bold\">[</span><span style=\"color: #008000; text-decoration-color: #008000\">'graph'</span>, <span style=\"color: #008000; text-decoration-color: #008000\">'minors'</span>, <span style=\"color: #008000; text-decoration-color: #008000\">'survey'</span><span style=\"font-weight: bold\">]]</span>\n",
       "</pre>\n"
      ],
      "text/plain": [
       "processed_corpus = \u001b[1m[\u001b[0m\u001b[1m[\u001b[0m\u001b[32m'human'\u001b[0m, \u001b[32m'interface'\u001b[0m, \u001b[32m'computer'\u001b[0m\u001b[1m]\u001b[0m, \u001b[1m[\u001b[0m\u001b[32m'survey'\u001b[0m, \u001b[32m'user'\u001b[0m, \u001b[32m'computer'\u001b[0m, \u001b[32m'system'\u001b[0m, \u001b[32m'response'\u001b[0m, \n",
       "\u001b[32m'time'\u001b[0m\u001b[1m]\u001b[0m, \u001b[1m[\u001b[0m\u001b[32m'eps'\u001b[0m, \u001b[32m'user'\u001b[0m, \u001b[32m'interface'\u001b[0m, \u001b[32m'system'\u001b[0m\u001b[1m]\u001b[0m, \u001b[1m[\u001b[0m\u001b[32m'system'\u001b[0m, \u001b[32m'human'\u001b[0m, \u001b[32m'system'\u001b[0m, \u001b[32m'eps'\u001b[0m\u001b[1m]\u001b[0m, \u001b[1m[\u001b[0m\u001b[32m'user'\u001b[0m, \u001b[32m'response'\u001b[0m, \n",
       "\u001b[32m'time'\u001b[0m\u001b[1m]\u001b[0m, \u001b[1m[\u001b[0m\u001b[32m'trees'\u001b[0m\u001b[1m]\u001b[0m, \u001b[1m[\u001b[0m\u001b[32m'graph'\u001b[0m, \u001b[32m'trees'\u001b[0m\u001b[1m]\u001b[0m, \u001b[1m[\u001b[0m\u001b[32m'graph'\u001b[0m, \u001b[32m'minors'\u001b[0m, \u001b[32m'trees'\u001b[0m\u001b[1m]\u001b[0m, \u001b[1m[\u001b[0m\u001b[32m'graph'\u001b[0m, \u001b[32m'minors'\u001b[0m, \u001b[32m'survey'\u001b[0m\u001b[1m]\u001b[0m\u001b[1m]\u001b[0m\n"
      ]
     },
     "metadata": {},
     "output_type": "display_data"
    }
   ],
   "source": [
    "from collections import defaultdict\n",
    "\n",
    "\n",
    "# Count the word frequencies\n",
    "frequency: defaultdict[str, int] = defaultdict(int)\n",
    "\n",
    "for text in texts:\n",
    "    for token in text:\n",
    "        frequency[token] += 1\n",
    "\n",
    "\n",
    "console.print(f\"{frequency = }\")\n",
    "\n",
    "# Keep ONLY tokens that occur more than once\n",
    "processed_corpus: list[list[str]] = [\n",
    "    [token for token in text if frequency[token] > 1] for text in texts\n",
    "]\n",
    "console.print(f\"{processed_corpus = }\")"
   ]
  },
  {
   "cell_type": "code",
   "execution_count": 6,
   "metadata": {},
   "outputs": [
    {
     "data": {
      "text/html": [
       "<pre style=\"white-space:pre;overflow-x:auto;line-height:normal;font-family:Menlo,'DejaVu Sans Mono',consolas,'Courier New',monospace\"><span style=\"color: #800080; text-decoration-color: #800080; font-weight: bold\">dictionary.items</span><span style=\"font-weight: bold\">()</span> = <span style=\"color: #800080; text-decoration-color: #800080; font-weight: bold\">ItemsView</span><span style=\"font-weight: bold\">(&lt;</span><span style=\"color: #ff00ff; text-decoration-color: #ff00ff; font-weight: bold\">gensim.corpora.dictionary.Dictionary</span><span style=\"color: #000000; text-decoration-color: #000000\"> object at </span><span style=\"color: #008080; text-decoration-color: #008080; font-weight: bold\">0x103433a30</span><span style=\"font-weight: bold\">&gt;)</span>\n",
       "</pre>\n"
      ],
      "text/plain": [
       "\u001b[1;35mdictionary.items\u001b[0m\u001b[1m(\u001b[0m\u001b[1m)\u001b[0m = \u001b[1;35mItemsView\u001b[0m\u001b[1m(\u001b[0m\u001b[1m<\u001b[0m\u001b[1;95mgensim.corpora.dictionary.Dictionary\u001b[0m\u001b[39m object at \u001b[0m\u001b[1;36m0x103433a30\u001b[0m\u001b[1m>\u001b[0m\u001b[1m)\u001b[0m\n"
      ]
     },
     "metadata": {},
     "output_type": "display_data"
    }
   ],
   "source": [
    "from gensim import corpora\n",
    "\n",
    "\n",
    "# Create a dictionary that contains the token_id and the token_text\n",
    "dictionary = corpora.Dictionary(processed_corpus)\n",
    "console.print(f\"{dictionary.items() = }\")"
   ]
  },
  {
   "cell_type": "markdown",
   "metadata": {},
   "source": [
    "#### Vector\n",
    "\n",
    "- A mathematical way of representing documents in a multi-dimensional space."
   ]
  },
  {
   "cell_type": "code",
   "execution_count": 7,
   "metadata": {},
   "outputs": [
    {
     "data": {
      "text/html": [
       "<pre style=\"white-space:pre;overflow-x:auto;line-height:normal;font-family:Menlo,'DejaVu Sans Mono',consolas,'Courier New',monospace\">dictionary.token2id = <span style=\"font-weight: bold\">{</span><span style=\"color: #008000; text-decoration-color: #008000\">'computer'</span>: <span style=\"color: #008080; text-decoration-color: #008080; font-weight: bold\">0</span>, <span style=\"color: #008000; text-decoration-color: #008000\">'human'</span>: <span style=\"color: #008080; text-decoration-color: #008080; font-weight: bold\">1</span>, <span style=\"color: #008000; text-decoration-color: #008000\">'interface'</span>: <span style=\"color: #008080; text-decoration-color: #008080; font-weight: bold\">2</span>, <span style=\"color: #008000; text-decoration-color: #008000\">'response'</span>: <span style=\"color: #008080; text-decoration-color: #008080; font-weight: bold\">3</span>, <span style=\"color: #008000; text-decoration-color: #008000\">'survey'</span>: <span style=\"color: #008080; text-decoration-color: #008080; font-weight: bold\">4</span>, <span style=\"color: #008000; text-decoration-color: #008000\">'system'</span>: <span style=\"color: #008080; text-decoration-color: #008080; font-weight: bold\">5</span>, <span style=\"color: #008000; text-decoration-color: #008000\">'time'</span>: \n",
       "<span style=\"color: #008080; text-decoration-color: #008080; font-weight: bold\">6</span>, <span style=\"color: #008000; text-decoration-color: #008000\">'user'</span>: <span style=\"color: #008080; text-decoration-color: #008080; font-weight: bold\">7</span>, <span style=\"color: #008000; text-decoration-color: #008000\">'eps'</span>: <span style=\"color: #008080; text-decoration-color: #008080; font-weight: bold\">8</span>, <span style=\"color: #008000; text-decoration-color: #008000\">'trees'</span>: <span style=\"color: #008080; text-decoration-color: #008080; font-weight: bold\">9</span>, <span style=\"color: #008000; text-decoration-color: #008000\">'graph'</span>: <span style=\"color: #008080; text-decoration-color: #008080; font-weight: bold\">10</span>, <span style=\"color: #008000; text-decoration-color: #008000\">'minors'</span>: <span style=\"color: #008080; text-decoration-color: #008080; font-weight: bold\">11</span><span style=\"font-weight: bold\">}</span>\n",
       "</pre>\n"
      ],
      "text/plain": [
       "dictionary.token2id = \u001b[1m{\u001b[0m\u001b[32m'computer'\u001b[0m: \u001b[1;36m0\u001b[0m, \u001b[32m'human'\u001b[0m: \u001b[1;36m1\u001b[0m, \u001b[32m'interface'\u001b[0m: \u001b[1;36m2\u001b[0m, \u001b[32m'response'\u001b[0m: \u001b[1;36m3\u001b[0m, \u001b[32m'survey'\u001b[0m: \u001b[1;36m4\u001b[0m, \u001b[32m'system'\u001b[0m: \u001b[1;36m5\u001b[0m, \u001b[32m'time'\u001b[0m: \n",
       "\u001b[1;36m6\u001b[0m, \u001b[32m'user'\u001b[0m: \u001b[1;36m7\u001b[0m, \u001b[32m'eps'\u001b[0m: \u001b[1;36m8\u001b[0m, \u001b[32m'trees'\u001b[0m: \u001b[1;36m9\u001b[0m, \u001b[32m'graph'\u001b[0m: \u001b[1;36m10\u001b[0m, \u001b[32m'minors'\u001b[0m: \u001b[1;36m11\u001b[0m\u001b[1m}\u001b[0m\n"
      ]
     },
     "metadata": {},
     "output_type": "display_data"
    },
    {
     "data": {
      "text/html": [
       "<pre style=\"white-space:pre;overflow-x:auto;line-height:normal;font-family:Menlo,'DejaVu Sans Mono',consolas,'Courier New',monospace\">new_vec = <span style=\"font-weight: bold\">[(</span><span style=\"color: #008080; text-decoration-color: #008080; font-weight: bold\">0</span>, <span style=\"color: #008080; text-decoration-color: #008080; font-weight: bold\">1</span><span style=\"font-weight: bold\">)</span>, <span style=\"font-weight: bold\">(</span><span style=\"color: #008080; text-decoration-color: #008080; font-weight: bold\">1</span>, <span style=\"color: #008080; text-decoration-color: #008080; font-weight: bold\">1</span><span style=\"font-weight: bold\">)]</span>\n",
       "</pre>\n"
      ],
      "text/plain": [
       "new_vec = \u001b[1m[\u001b[0m\u001b[1m(\u001b[0m\u001b[1;36m0\u001b[0m, \u001b[1;36m1\u001b[0m\u001b[1m)\u001b[0m, \u001b[1m(\u001b[0m\u001b[1;36m1\u001b[0m, \u001b[1;36m1\u001b[0m\u001b[1m)\u001b[0m\u001b[1m]\u001b[0m\n"
      ]
     },
     "metadata": {},
     "output_type": "display_data"
    }
   ],
   "source": [
    "# Vector: a mathematical way of representing documents in a multi-dimensional space.\n",
    "\n",
    "# View the token ids\n",
    "console.print(f\"{dictionary.token2id = }\")\n",
    "\n",
    "# Vectorize a document\n",
    "new_doc: str = \"Human computer interaction\"\n",
    "new_vec: list[tuple[int, int]] = dictionary.doc2bow(new_doc.lower().split())\n",
    "console.print(f\"{new_vec = }\")"
   ]
  },
  {
   "cell_type": "markdown",
   "metadata": {},
   "source": [
    "#### Comment\n",
    "\n",
    "```py\n",
    "# Explaination of the result is shown below\n",
    "new_vec = [(0, 1), (1, 1)]\n",
    "```"
   ]
  },
  {
   "cell_type": "code",
   "execution_count": 8,
   "metadata": {},
   "outputs": [
    {
     "name": "stdout",
     "output_type": "stream",
     "text": [
      "human: (0, 0) is in dictionary: True\n",
      "computer: (1, 1) is in dictionary: True\n",
      "interaction: (2, 1) is in dictionary: False\n"
     ]
    }
   ],
   "source": [
    "new_doc_list: list[str] = new_doc.lower().split()\n",
    "\n",
    "for idx, token in enumerate(new_doc_list):\n",
    "    flag: bool = token in dictionary.values()\n",
    "    count_: int = new_doc.count(token)\n",
    "    print(f\"{token}: ({idx}, {count_}) is in dictionary: {flag}\")"
   ]
  },
  {
   "cell_type": "code",
   "execution_count": 9,
   "metadata": {},
   "outputs": [
    {
     "data": {
      "text/html": [
       "<pre style=\"white-space:pre;overflow-x:auto;line-height:normal;font-family:Menlo,'DejaVu Sans Mono',consolas,'Courier New',monospace\">bow_corpus = <span style=\"font-weight: bold\">[[(</span><span style=\"color: #008080; text-decoration-color: #008080; font-weight: bold\">0</span>, <span style=\"color: #008080; text-decoration-color: #008080; font-weight: bold\">1</span><span style=\"font-weight: bold\">)</span>, <span style=\"font-weight: bold\">(</span><span style=\"color: #008080; text-decoration-color: #008080; font-weight: bold\">1</span>, <span style=\"color: #008080; text-decoration-color: #008080; font-weight: bold\">1</span><span style=\"font-weight: bold\">)</span>, <span style=\"font-weight: bold\">(</span><span style=\"color: #008080; text-decoration-color: #008080; font-weight: bold\">2</span>, <span style=\"color: #008080; text-decoration-color: #008080; font-weight: bold\">1</span><span style=\"font-weight: bold\">)]</span>, <span style=\"font-weight: bold\">[(</span><span style=\"color: #008080; text-decoration-color: #008080; font-weight: bold\">0</span>, <span style=\"color: #008080; text-decoration-color: #008080; font-weight: bold\">1</span><span style=\"font-weight: bold\">)</span>, <span style=\"font-weight: bold\">(</span><span style=\"color: #008080; text-decoration-color: #008080; font-weight: bold\">3</span>, <span style=\"color: #008080; text-decoration-color: #008080; font-weight: bold\">1</span><span style=\"font-weight: bold\">)</span>, <span style=\"font-weight: bold\">(</span><span style=\"color: #008080; text-decoration-color: #008080; font-weight: bold\">4</span>, <span style=\"color: #008080; text-decoration-color: #008080; font-weight: bold\">1</span><span style=\"font-weight: bold\">)</span>, <span style=\"font-weight: bold\">(</span><span style=\"color: #008080; text-decoration-color: #008080; font-weight: bold\">5</span>, <span style=\"color: #008080; text-decoration-color: #008080; font-weight: bold\">1</span><span style=\"font-weight: bold\">)</span>, <span style=\"font-weight: bold\">(</span><span style=\"color: #008080; text-decoration-color: #008080; font-weight: bold\">6</span>, <span style=\"color: #008080; text-decoration-color: #008080; font-weight: bold\">1</span><span style=\"font-weight: bold\">)</span>, <span style=\"font-weight: bold\">(</span><span style=\"color: #008080; text-decoration-color: #008080; font-weight: bold\">7</span>, <span style=\"color: #008080; text-decoration-color: #008080; font-weight: bold\">1</span><span style=\"font-weight: bold\">)]</span>, <span style=\"font-weight: bold\">[(</span><span style=\"color: #008080; text-decoration-color: #008080; font-weight: bold\">2</span>, <span style=\"color: #008080; text-decoration-color: #008080; font-weight: bold\">1</span><span style=\"font-weight: bold\">)</span>, <span style=\"font-weight: bold\">(</span><span style=\"color: #008080; text-decoration-color: #008080; font-weight: bold\">5</span>, <span style=\"color: #008080; text-decoration-color: #008080; font-weight: bold\">1</span><span style=\"font-weight: bold\">)</span>, <span style=\"font-weight: bold\">(</span><span style=\"color: #008080; text-decoration-color: #008080; font-weight: bold\">7</span>, <span style=\"color: #008080; text-decoration-color: #008080; font-weight: bold\">1</span><span style=\"font-weight: bold\">)</span>, \n",
       "<span style=\"font-weight: bold\">(</span><span style=\"color: #008080; text-decoration-color: #008080; font-weight: bold\">8</span>, <span style=\"color: #008080; text-decoration-color: #008080; font-weight: bold\">1</span><span style=\"font-weight: bold\">)]</span>, <span style=\"font-weight: bold\">[(</span><span style=\"color: #008080; text-decoration-color: #008080; font-weight: bold\">1</span>, <span style=\"color: #008080; text-decoration-color: #008080; font-weight: bold\">1</span><span style=\"font-weight: bold\">)</span>, <span style=\"font-weight: bold\">(</span><span style=\"color: #008080; text-decoration-color: #008080; font-weight: bold\">5</span>, <span style=\"color: #008080; text-decoration-color: #008080; font-weight: bold\">2</span><span style=\"font-weight: bold\">)</span>, <span style=\"font-weight: bold\">(</span><span style=\"color: #008080; text-decoration-color: #008080; font-weight: bold\">8</span>, <span style=\"color: #008080; text-decoration-color: #008080; font-weight: bold\">1</span><span style=\"font-weight: bold\">)]</span>, <span style=\"font-weight: bold\">[(</span><span style=\"color: #008080; text-decoration-color: #008080; font-weight: bold\">3</span>, <span style=\"color: #008080; text-decoration-color: #008080; font-weight: bold\">1</span><span style=\"font-weight: bold\">)</span>, <span style=\"font-weight: bold\">(</span><span style=\"color: #008080; text-decoration-color: #008080; font-weight: bold\">6</span>, <span style=\"color: #008080; text-decoration-color: #008080; font-weight: bold\">1</span><span style=\"font-weight: bold\">)</span>, <span style=\"font-weight: bold\">(</span><span style=\"color: #008080; text-decoration-color: #008080; font-weight: bold\">7</span>, <span style=\"color: #008080; text-decoration-color: #008080; font-weight: bold\">1</span><span style=\"font-weight: bold\">)]</span>, <span style=\"font-weight: bold\">[(</span><span style=\"color: #008080; text-decoration-color: #008080; font-weight: bold\">9</span>, <span style=\"color: #008080; text-decoration-color: #008080; font-weight: bold\">1</span><span style=\"font-weight: bold\">)]</span>, <span style=\"font-weight: bold\">[(</span><span style=\"color: #008080; text-decoration-color: #008080; font-weight: bold\">9</span>, <span style=\"color: #008080; text-decoration-color: #008080; font-weight: bold\">1</span><span style=\"font-weight: bold\">)</span>, <span style=\"font-weight: bold\">(</span><span style=\"color: #008080; text-decoration-color: #008080; font-weight: bold\">10</span>, <span style=\"color: #008080; text-decoration-color: #008080; font-weight: bold\">1</span><span style=\"font-weight: bold\">)]</span>, <span style=\"font-weight: bold\">[(</span><span style=\"color: #008080; text-decoration-color: #008080; font-weight: bold\">9</span>, <span style=\"color: #008080; text-decoration-color: #008080; font-weight: bold\">1</span><span style=\"font-weight: bold\">)</span>, <span style=\"font-weight: bold\">(</span><span style=\"color: #008080; text-decoration-color: #008080; font-weight: bold\">10</span>, <span style=\"color: #008080; text-decoration-color: #008080; font-weight: bold\">1</span><span style=\"font-weight: bold\">)</span>, <span style=\"font-weight: bold\">(</span><span style=\"color: #008080; text-decoration-color: #008080; font-weight: bold\">11</span>, \n",
       "<span style=\"color: #008080; text-decoration-color: #008080; font-weight: bold\">1</span><span style=\"font-weight: bold\">)]</span>, <span style=\"font-weight: bold\">[(</span><span style=\"color: #008080; text-decoration-color: #008080; font-weight: bold\">4</span>, <span style=\"color: #008080; text-decoration-color: #008080; font-weight: bold\">1</span><span style=\"font-weight: bold\">)</span>, <span style=\"font-weight: bold\">(</span><span style=\"color: #008080; text-decoration-color: #008080; font-weight: bold\">10</span>, <span style=\"color: #008080; text-decoration-color: #008080; font-weight: bold\">1</span><span style=\"font-weight: bold\">)</span>, <span style=\"font-weight: bold\">(</span><span style=\"color: #008080; text-decoration-color: #008080; font-weight: bold\">11</span>, <span style=\"color: #008080; text-decoration-color: #008080; font-weight: bold\">1</span><span style=\"font-weight: bold\">)]]</span>\n",
       "</pre>\n"
      ],
      "text/plain": [
       "bow_corpus = \u001b[1m[\u001b[0m\u001b[1m[\u001b[0m\u001b[1m(\u001b[0m\u001b[1;36m0\u001b[0m, \u001b[1;36m1\u001b[0m\u001b[1m)\u001b[0m, \u001b[1m(\u001b[0m\u001b[1;36m1\u001b[0m, \u001b[1;36m1\u001b[0m\u001b[1m)\u001b[0m, \u001b[1m(\u001b[0m\u001b[1;36m2\u001b[0m, \u001b[1;36m1\u001b[0m\u001b[1m)\u001b[0m\u001b[1m]\u001b[0m, \u001b[1m[\u001b[0m\u001b[1m(\u001b[0m\u001b[1;36m0\u001b[0m, \u001b[1;36m1\u001b[0m\u001b[1m)\u001b[0m, \u001b[1m(\u001b[0m\u001b[1;36m3\u001b[0m, \u001b[1;36m1\u001b[0m\u001b[1m)\u001b[0m, \u001b[1m(\u001b[0m\u001b[1;36m4\u001b[0m, \u001b[1;36m1\u001b[0m\u001b[1m)\u001b[0m, \u001b[1m(\u001b[0m\u001b[1;36m5\u001b[0m, \u001b[1;36m1\u001b[0m\u001b[1m)\u001b[0m, \u001b[1m(\u001b[0m\u001b[1;36m6\u001b[0m, \u001b[1;36m1\u001b[0m\u001b[1m)\u001b[0m, \u001b[1m(\u001b[0m\u001b[1;36m7\u001b[0m, \u001b[1;36m1\u001b[0m\u001b[1m)\u001b[0m\u001b[1m]\u001b[0m, \u001b[1m[\u001b[0m\u001b[1m(\u001b[0m\u001b[1;36m2\u001b[0m, \u001b[1;36m1\u001b[0m\u001b[1m)\u001b[0m, \u001b[1m(\u001b[0m\u001b[1;36m5\u001b[0m, \u001b[1;36m1\u001b[0m\u001b[1m)\u001b[0m, \u001b[1m(\u001b[0m\u001b[1;36m7\u001b[0m, \u001b[1;36m1\u001b[0m\u001b[1m)\u001b[0m, \n",
       "\u001b[1m(\u001b[0m\u001b[1;36m8\u001b[0m, \u001b[1;36m1\u001b[0m\u001b[1m)\u001b[0m\u001b[1m]\u001b[0m, \u001b[1m[\u001b[0m\u001b[1m(\u001b[0m\u001b[1;36m1\u001b[0m, \u001b[1;36m1\u001b[0m\u001b[1m)\u001b[0m, \u001b[1m(\u001b[0m\u001b[1;36m5\u001b[0m, \u001b[1;36m2\u001b[0m\u001b[1m)\u001b[0m, \u001b[1m(\u001b[0m\u001b[1;36m8\u001b[0m, \u001b[1;36m1\u001b[0m\u001b[1m)\u001b[0m\u001b[1m]\u001b[0m, \u001b[1m[\u001b[0m\u001b[1m(\u001b[0m\u001b[1;36m3\u001b[0m, \u001b[1;36m1\u001b[0m\u001b[1m)\u001b[0m, \u001b[1m(\u001b[0m\u001b[1;36m6\u001b[0m, \u001b[1;36m1\u001b[0m\u001b[1m)\u001b[0m, \u001b[1m(\u001b[0m\u001b[1;36m7\u001b[0m, \u001b[1;36m1\u001b[0m\u001b[1m)\u001b[0m\u001b[1m]\u001b[0m, \u001b[1m[\u001b[0m\u001b[1m(\u001b[0m\u001b[1;36m9\u001b[0m, \u001b[1;36m1\u001b[0m\u001b[1m)\u001b[0m\u001b[1m]\u001b[0m, \u001b[1m[\u001b[0m\u001b[1m(\u001b[0m\u001b[1;36m9\u001b[0m, \u001b[1;36m1\u001b[0m\u001b[1m)\u001b[0m, \u001b[1m(\u001b[0m\u001b[1;36m10\u001b[0m, \u001b[1;36m1\u001b[0m\u001b[1m)\u001b[0m\u001b[1m]\u001b[0m, \u001b[1m[\u001b[0m\u001b[1m(\u001b[0m\u001b[1;36m9\u001b[0m, \u001b[1;36m1\u001b[0m\u001b[1m)\u001b[0m, \u001b[1m(\u001b[0m\u001b[1;36m10\u001b[0m, \u001b[1;36m1\u001b[0m\u001b[1m)\u001b[0m, \u001b[1m(\u001b[0m\u001b[1;36m11\u001b[0m, \n",
       "\u001b[1;36m1\u001b[0m\u001b[1m)\u001b[0m\u001b[1m]\u001b[0m, \u001b[1m[\u001b[0m\u001b[1m(\u001b[0m\u001b[1;36m4\u001b[0m, \u001b[1;36m1\u001b[0m\u001b[1m)\u001b[0m, \u001b[1m(\u001b[0m\u001b[1;36m10\u001b[0m, \u001b[1;36m1\u001b[0m\u001b[1m)\u001b[0m, \u001b[1m(\u001b[0m\u001b[1;36m11\u001b[0m, \u001b[1;36m1\u001b[0m\u001b[1m)\u001b[0m\u001b[1m]\u001b[0m\u001b[1m]\u001b[0m\n"
      ]
     },
     "metadata": {},
     "output_type": "display_data"
    }
   ],
   "source": [
    "# Vectorize the entire using a BoW (Bag of Words) approach. i.e. count the\n",
    "# number of times a word appears in a document.\n",
    "bow_corpus: list[list[tuple[int, int]]] = [\n",
    "    dictionary.doc2bow(doc) for doc in processed_corpus\n",
    "]\n",
    "console.print(f\"{bow_corpus = }\")"
   ]
  },
  {
   "cell_type": "markdown",
   "metadata": {},
   "source": [
    "<br>\n",
    "\n",
    "#### Model\n",
    "\n",
    "- It refers to `transformation` from one document representation to another.\n",
    "- E.g. `TF-IDF` model transforms word frequency counts based on word rarity in the corpus. "
   ]
  },
  {
   "cell_type": "code",
   "execution_count": 10,
   "metadata": {},
   "outputs": [
    {
     "data": {
      "text/html": [
       "<pre style=\"white-space:pre;overflow-x:auto;line-height:normal;font-family:Menlo,'DejaVu Sans Mono',consolas,'Courier New',monospace\">doc_vec = <span style=\"font-weight: bold\">[(</span><span style=\"color: #008080; text-decoration-color: #008080; font-weight: bold\">5</span>, <span style=\"color: #008080; text-decoration-color: #008080; font-weight: bold\">0.5898341626740045</span><span style=\"font-weight: bold\">)</span>, <span style=\"font-weight: bold\">(</span><span style=\"color: #008080; text-decoration-color: #008080; font-weight: bold\">11</span>, <span style=\"color: #008080; text-decoration-color: #008080; font-weight: bold\">0.8075244024440723</span><span style=\"font-weight: bold\">)]</span>\n",
       "</pre>\n"
      ],
      "text/plain": [
       "doc_vec = \u001b[1m[\u001b[0m\u001b[1m(\u001b[0m\u001b[1;36m5\u001b[0m, \u001b[1;36m0.5898341626740045\u001b[0m\u001b[1m)\u001b[0m, \u001b[1m(\u001b[0m\u001b[1;36m11\u001b[0m, \u001b[1;36m0.8075244024440723\u001b[0m\u001b[1m)\u001b[0m\u001b[1m]\u001b[0m\n"
      ]
     },
     "metadata": {},
     "output_type": "display_data"
    }
   ],
   "source": [
    "from gensim import models\n",
    "\n",
    "\n",
    "# Train the model\n",
    "tfidf: models.TfidfModel = models.TfidfModel(corpus=bow_corpus)\n",
    "\n",
    "# Transform an input document\n",
    "doc: list[str] = \"System Minors\".lower().split()\n",
    "doc_bow: list[tuple[int, int]] = dictionary.doc2bow(doc)\n",
    "doc_vec: list[tuple[int, float]] = tfidf[doc_bow]\n",
    "console.print(f\"{doc_vec = }\")\n",
    "\n",
    "#  system: 0.5898341626740045, minors: 0.8075244024440723\n",
    "# [(5, 0.5898341626740045), (11, 0.8075244024440723)]\n",
    "# Because system occurs a lot more than minors in the corpus, it has a lower tf-idf score."
   ]
  },
  {
   "cell_type": "markdown",
   "metadata": {},
   "source": [
    "#### Calculating Similariites"
   ]
  },
  {
   "cell_type": "code",
   "execution_count": 11,
   "metadata": {},
   "outputs": [
    {
     "data": {
      "text/html": [
       "<pre style=\"white-space:pre;overflow-x:auto;line-height:normal;font-family:Menlo,'DejaVu Sans Mono',consolas,'Courier New',monospace\">sims = <span style=\"color: #800080; text-decoration-color: #800080; font-weight: bold\">array</span><span style=\"font-weight: bold\">([</span><span style=\"color: #008080; text-decoration-color: #008080; font-weight: bold\">0</span>.    , <span style=\"color: #008080; text-decoration-color: #008080; font-weight: bold\">0.3245</span>, <span style=\"color: #008080; text-decoration-color: #008080; font-weight: bold\">0.4171</span>, <span style=\"color: #008080; text-decoration-color: #008080; font-weight: bold\">0.7185</span>, <span style=\"color: #008080; text-decoration-color: #008080; font-weight: bold\">0</span>.    , <span style=\"color: #008080; text-decoration-color: #008080; font-weight: bold\">0</span>.    , <span style=\"color: #008080; text-decoration-color: #008080; font-weight: bold\">0</span>.    , <span style=\"color: #008080; text-decoration-color: #008080; font-weight: bold\">0</span>.    ,\n",
       "       <span style=\"color: #008080; text-decoration-color: #008080; font-weight: bold\">0</span>.    <span style=\"font-weight: bold\">]</span>, <span style=\"color: #808000; text-decoration-color: #808000\">dtype</span>=<span style=\"color: #800080; text-decoration-color: #800080\">float32</span><span style=\"font-weight: bold\">)</span>\n",
       "</pre>\n"
      ],
      "text/plain": [
       "sims = \u001b[1;35marray\u001b[0m\u001b[1m(\u001b[0m\u001b[1m[\u001b[0m\u001b[1;36m0\u001b[0m.    , \u001b[1;36m0.3245\u001b[0m, \u001b[1;36m0.4171\u001b[0m, \u001b[1;36m0.7185\u001b[0m, \u001b[1;36m0\u001b[0m.    , \u001b[1;36m0\u001b[0m.    , \u001b[1;36m0\u001b[0m.    , \u001b[1;36m0\u001b[0m.    ,\n",
       "       \u001b[1;36m0\u001b[0m.    \u001b[1m]\u001b[0m, \u001b[33mdtype\u001b[0m=\u001b[35mfloat32\u001b[0m\u001b[1m)\u001b[0m\n"
      ]
     },
     "metadata": {},
     "output_type": "display_data"
    }
   ],
   "source": [
    "from gensim import similarities\n",
    "\n",
    "\n",
    "# Prepare for similarity search\n",
    "num_features: int = 12  # number of features (dimensions)\n",
    "corpus_vector: list[tuple[int, float]] = tfidf[bow_corpus]\n",
    "\n",
    "index = similarities.SparseMatrixSimilarity(\n",
    "    corpus=corpus_vector, num_features=num_features\n",
    ")\n",
    "\n",
    "query_doc: list[str] = \"System engineering\".lower().split()\n",
    "query_doc_bow: list[tuple[int, int]] = dictionary.doc2bow(query_doc)\n",
    "query_doc_vector: list[tuple[int, float]] = tfidf[query_doc_bow]\n",
    "sims: list[tuple[int, float]] = index[query_doc_vector]\n",
    "console.print(f\"{sims = }\")"
   ]
  },
  {
   "cell_type": "code",
   "execution_count": 12,
   "metadata": {},
   "outputs": [
    {
     "name": "stdout",
     "output_type": "stream",
     "text": [
      "['Human machine interface for lab abc computer applications',\n",
      " 'A survey of user opinion of computer system response time',\n",
      " 'The EPS user interface management system',\n",
      " 'System and human system engineering testing of EPS',\n",
      " 'Relation of user perceived response time to error measurement',\n",
      " 'The generation of random binary unordered trees',\n",
      " 'The intersection graph of paths in trees',\n",
      " 'Graph minors IV Widths of trees and well quasi ordering',\n",
      " 'Graph minors A survey']\n"
     ]
    }
   ],
   "source": [
    "# Compare `text_corpus` with `sims`\n",
    "pprint(text_corpus)"
   ]
  },
  {
   "cell_type": "code",
   "execution_count": 13,
   "metadata": {},
   "outputs": [
    {
     "name": "stdout",
     "output_type": "stream",
     "text": [
      "doc 3: similarity=0.718481\n",
      "doc 2: similarity=0.417076\n",
      "doc 1: similarity=0.324487\n",
      "doc 0: similarity=0.000000\n",
      "doc 4: similarity=0.000000\n",
      "doc 5: similarity=0.000000\n",
      "doc 6: similarity=0.000000\n",
      "doc 7: similarity=0.000000\n",
      "doc 8: similarity=0.000000\n"
     ]
    }
   ],
   "source": [
    "# Sort\n",
    "for idx, score in sorted(enumerate(sims), key=lambda x: x[1], reverse=True):\n",
    "    print(f\"doc {idx}: similarity={score:4f}\")"
   ]
  },
  {
   "cell_type": "markdown",
   "metadata": {},
   "source": [
    "<hr><br>\n",
    "\n",
    "#### Loading Data Effciently\n",
    "\n",
    "- Streaming data from disk."
   ]
  },
  {
   "cell_type": "code",
   "execution_count": 14,
   "metadata": {},
   "outputs": [],
   "source": [
    "from smart_open import open  # for transparently opening remote files\n",
    "\n",
    "\n",
    "# Copied from https://radimrehurek.com/gensim/tut1.html\n",
    "class MyCorpus:\n",
    "    def __iter__(self):\n",
    "        for line in open(\"https://radimrehurek.com/mycorpus.txt\"):\n",
    "            # assume there's one document per line, tokens separated by whitespace\n",
    "            yield dictionary.doc2bow(line.lower().split())"
   ]
  },
  {
   "cell_type": "code",
   "execution_count": 15,
   "metadata": {},
   "outputs": [],
   "source": [
    "class MyCustomCorpus:\n",
    "    def __init__(self, text: str = \"text\") -> None:\n",
    "        self.text = text\n",
    "        self.data: pl.LazyFrame = pl.scan_csv(\"../data/test.csv\").select([self.text])\n",
    "\n",
    "    def __repr__(self) -> str:\n",
    "        return f\"{self.__class__.__name__}()\"\n",
    "\n",
    "    def __iter__(self):\n",
    "        for row in self.data.collect().iter_rows(named=True):\n",
    "            text: str = row[self.text]\n",
    "            yield dictionary.doc2bow(text.lower().split())"
   ]
  },
  {
   "cell_type": "code",
   "execution_count": 16,
   "metadata": {},
   "outputs": [
    {
     "name": "stdout",
     "output_type": "stream",
     "text": [
      "MyCustomCorpus()\n"
     ]
    }
   ],
   "source": [
    "corpus_memory_friendly: MyCustomCorpus = MyCustomCorpus(text=\"text\")\n",
    "\n",
    "print(corpus_memory_friendly)"
   ]
  },
  {
   "cell_type": "code",
   "execution_count": 17,
   "metadata": {},
   "outputs": [],
   "source": [
    "from gensim.corpora import Dictionary\n",
    "\n",
    "\n",
    "stopwords: set[str] = set(\"i is for a of the and to in on my\".split())\n",
    "df: pl.DataFrame = pl.read_csv(\"../data/test.csv\")\n",
    "processed_corpus: list[list[str]] = [\n",
    "    line.lower().split() for line in df[\"text\"].to_list()\n",
    "]\n",
    "\n",
    "dictionary: Dictionary = Dictionary(processed_corpus)"
   ]
  },
  {
   "cell_type": "code",
   "execution_count": 18,
   "metadata": {},
   "outputs": [
    {
     "name": "stdout",
     "output_type": "stream",
     "text": [
      "[(0, 1), (1, 1), (2, 1), (3, 1), (4, 1), (5, 1), (6, 2), (7, 1)]\n",
      "[(5, 1), (6, 2), (8, 2), (9, 1), (10, 1), (11, 1), (12, 1), (13, 1), (14, 1), (15, 1), (16, 1), (17, 1), (18, 1), (19, 1), (20, 1), (21, 1)]\n",
      "[(6, 4), (8, 1), (20, 1), (22, 1), (23, 1), (24, 1), (25, 1), (26, 1), (27, 2), (28, 1), (29, 1), (30, 1), (31, 1), (32, 1)]\n"
     ]
    }
   ],
   "source": [
    "for idx, vec in enumerate(corpus_memory_friendly):\n",
    "    if idx < 3:\n",
    "        print(vec)"
   ]
  },
  {
   "cell_type": "code",
   "execution_count": null,
   "metadata": {},
   "outputs": [],
   "source": []
  },
  {
   "cell_type": "code",
   "execution_count": 19,
   "metadata": {},
   "outputs": [
    {
     "name": "stdout",
     "output_type": "stream",
     "text": [
      "Dictionary<10 unique tokens: ['messi', 'soccer', 'jesus', 'team', 'has']...>\n"
     ]
    }
   ],
   "source": [
    "# Text preprocessing\n",
    "\n",
    "df: pl.DataFrame = pl.read_csv(\"../data/test.csv\")\n",
    "processed_corpus: list[list[str]] = [\n",
    "    line.lower().split() for line in df[\"text\"].to_list()\n",
    "]\n",
    "\n",
    "dictionary: Dictionary = Dictionary(processed_corpus)\n",
    "\n",
    "# Extract the ids of the stopwords\n",
    "stop_ids: list[int] = [\n",
    "    dictionary.token2id[s_word] for s_word in stopwords if s_word in dictionary.token2id\n",
    "]\n",
    "\n",
    "# Extract ids of words with frequency less than 2\n",
    "low_frequency_ids: list[int] = [\n",
    "    tokenid for tokenid, docfreq in dictionary.dfs.items() if docfreq < 2\n",
    "]\n",
    "# Remove the ids\n",
    "dictionary.filter_tokens(stop_ids + low_frequency_ids)\n",
    "\n",
    "# Remove gaps in id sequence after words are filtered\n",
    "dictionary.compactify()\n",
    "print(dictionary)"
   ]
  },
  {
   "cell_type": "code",
   "execution_count": 20,
   "metadata": {},
   "outputs": [
    {
     "name": "stdout",
     "output_type": "stream",
     "text": [
      "10\n"
     ]
    }
   ],
   "source": [
    "print(dictionary.__len__())"
   ]
  },
  {
   "cell_type": "markdown",
   "metadata": {},
   "source": [
    "<hr>\n",
    "\n",
    "### Corpus Formats\n",
    "\n",
    "- Gensim serially processes `Vector Space` corpus files, reading/writing one document at a time without loading the entire corpus into memory.\n",
    "\n",
    "#### Save Corpus\n",
    "\n",
    "- One of the more notable file formats is the `Market Matrix` format. To save a corpus in the Matrix Market format:\n",
    "\n",
    "```py\n",
    "# Create a toy corpus of 2 documents, as a plain Python list\n",
    "# make one document empty, for the heck of it\n",
    "corpus: list[list[tuple[int, float]]] = [[(1, 0.5)], []]  \n",
    "\n",
    "# Save the corpus in Matrix Market format\n",
    "corpora.MmCorpus.serialize('/tmp/corpus.mm', corpus)\n",
    "```\n",
    "\n",
    "- Other formats include:\n",
    "  - `Joachim’s SVMlight` format\n",
    "  - `Blei’s LDA-C` format\n",
    "  - `GibbsLDA++` format.\n",
    "\n",
    "```py\n",
    "corpora.SvmLightCorpus.serialize('/tmp/corpus.svmlight', corpus)\n",
    "corpora.BleiCorpus.serialize('/tmp/corpus.lda-c', corpus)\n",
    "corpora.LowCorpus.serialize('/tmp/corpus.low', corpus)\n",
    "```\n",
    "\n",
    "#### Load The Corpus\n",
    "\n",
    "- Conversely, to load a corpus iterator from a Matrix Market file:\n",
    "\n",
    "```py\n",
    "corpus = corpora.MmCorpus('/tmp/corpus.mm')\n",
    "```"
   ]
  },
  {
   "cell_type": "code",
   "execution_count": null,
   "metadata": {},
   "outputs": [],
   "source": []
  },
  {
   "cell_type": "markdown",
   "metadata": {},
   "source": [
    "### Compatibility With NumPy And SciPy\n",
    "\n",
    "- Gensim also contains efficient utility functions to help converting from/to numpy matrices.\n",
    "\n",
    "```py\n",
    "import gensim\n",
    "import numpy as np\n",
    "import gensim\n",
    "\n",
    "# random matrix as an example\n",
    "numpy_matrix: np.ndarray = np.random.randint(10, size=[5, 2])  \n",
    "corpus = gensim.matutils.Dense2Corpus(numpy_matrix)\n",
    "\n",
    "# convert from gensim corpus to numpy matrix\n",
    "numpy_matrix = gensim.matutils.corpus2dense(corpus, num_terms=number_of_corpus_features)\n",
    "```\n",
    "<br>\n",
    "\n",
    "#### From/to scipy.sparse matrices\n",
    "\n",
    "\n",
    "```py\n",
    "import scipy.sparse\n",
    "\n",
    "# random sparse matrix as an example\n",
    "scipy_sparse_matrix = scipy.sparse.random(5, 2)  # random sparse matrix as example\n",
    "corpus = gensim.matutils.Sparse2Corpus(scipy_sparse_matrix)\n",
    "scipy_csc_matrix = gensim.matutils.corpus2csc(corpus)\n",
    "```\n"
   ]
  },
  {
   "cell_type": "code",
   "execution_count": null,
   "metadata": {},
   "outputs": [],
   "source": []
  },
  {
   "cell_type": "markdown",
   "metadata": {},
   "source": [
    "### Loading And Saving Models"
   ]
  },
  {
   "cell_type": "code",
   "execution_count": 21,
   "metadata": {},
   "outputs": [
    {
     "data": {
      "text/html": [
       "<pre style=\"white-space:pre;overflow-x:auto;line-height:normal;font-family:Menlo,'DejaVu Sans Mono',consolas,'Courier New',monospace\"><span style=\"font-weight: bold\">[</span>\n",
       "    <span style=\"font-weight: bold\">(</span>\n",
       "        <span style=\"color: #008080; text-decoration-color: #008080; font-weight: bold\">0</span>,\n",
       "        <span style=\"color: #008000; text-decoration-color: #008000\">'0.600*\"messi\" + 0.557*\"soccer\" + 0.339*\"jesus\" + 0.290*\"team\" + 0.274*\"has\" + 0.234*\"religion\" + </span>\n",
       "<span style=\"color: #008000; text-decoration-color: #008000\">0.000*\"religious\" + 0.000*\"are\" + 0.000*\"prayer\" + 0.000*\"together.\"'</span>\n",
       "    <span style=\"font-weight: bold\">)</span>,\n",
       "    <span style=\"font-weight: bold\">(</span>\n",
       "        <span style=\"color: #008080; text-decoration-color: #008080; font-weight: bold\">1</span>,\n",
       "        <span style=\"color: #008000; text-decoration-color: #008000\">'0.500*\"together.\" + 0.500*\"prayer\" + 0.500*\"are\" + 0.500*\"religious\" + -0.000*\"jesus\" + 0.000*\"team\" + </span>\n",
       "<span style=\"color: #008000; text-decoration-color: #008000\">-0.000*\"religion\" + 0.000*\"has\" + 0.000*\"messi\" + -0.000*\"soccer\"'</span>\n",
       "    <span style=\"font-weight: bold\">)</span>\n",
       "<span style=\"font-weight: bold\">]</span>\n",
       "</pre>\n"
      ],
      "text/plain": [
       "\u001b[1m[\u001b[0m\n",
       "    \u001b[1m(\u001b[0m\n",
       "        \u001b[1;36m0\u001b[0m,\n",
       "        \u001b[32m'0.600*\"messi\" + 0.557*\"soccer\" + 0.339*\"jesus\" + 0.290*\"team\" + 0.274*\"has\" + 0.234*\"religion\" + \u001b[0m\n",
       "\u001b[32m0.000*\"religious\" + 0.000*\"are\" + 0.000*\"prayer\" + 0.000*\"together.\"'\u001b[0m\n",
       "    \u001b[1m)\u001b[0m,\n",
       "    \u001b[1m(\u001b[0m\n",
       "        \u001b[1;36m1\u001b[0m,\n",
       "        \u001b[32m'0.500*\"together.\" + 0.500*\"prayer\" + 0.500*\"are\" + 0.500*\"religious\" + -0.000*\"jesus\" + 0.000*\"team\" + \u001b[0m\n",
       "\u001b[32m-0.000*\"religion\" + 0.000*\"has\" + 0.000*\"messi\" + -0.000*\"soccer\"'\u001b[0m\n",
       "    \u001b[1m)\u001b[0m\n",
       "\u001b[1m]\u001b[0m\n"
      ]
     },
     "metadata": {},
     "output_type": "display_data"
    }
   ],
   "source": [
    "from gensim.interfaces import TransformedCorpus\n",
    "\n",
    "\n",
    "doc_bow: list[list[tuple[int, int]]] = [\n",
    "    dictionary.doc2bow(text) for text in processed_corpus\n",
    "]\n",
    "tfidf_model: models.TfidfModel = models.TfidfModel(dictionary=dictionary)\n",
    "corpus_tfidf: TransformedCorpus = tfidf_model[doc_bow]\n",
    "\n",
    "lsi_model: models.LsiModel = models.LsiModel(\n",
    "    corpus=corpus_tfidf, id2word=dictionary, num_topics=2\n",
    ")\n",
    "corpus_lsi: TransformedCorpus = lsi_model[corpus_tfidf]\n",
    "\n",
    "# lsi_model.show_topics()\n",
    "console.print(lsi_model.print_topics(num_topics=2))"
   ]
  },
  {
   "cell_type": "markdown",
   "metadata": {},
   "source": [
    "#### Comment\n",
    "\n",
    "```text\n",
    "(0, '0.600*\"messi\" + 0.557*\"soccer\" + 0.339*\"jesus\" + 0.290*\"team\" + 0.274*\"has\" + 0.234*\"religion\" + 0.000*\"religious\" + 0.000*\"are\" + 0.000*\"prayer\" + 0.000*\"together.\"')\n",
    "\n",
    "- This means that for topic 0, `messi`, `soccer`, `jesus`, `team`, `has`, `religion` are all related words and contribute the most to the topic.\n",
    "```"
   ]
  },
  {
   "cell_type": "code",
   "execution_count": 24,
   "metadata": {},
   "outputs": [
    {
     "name": "stdout",
     "output_type": "stream",
     "text": [
      "[(0, 0.7975568794650282)] | ['messi', 'is', 'the', 'best', 'soccer', 'player', 'in', 'the', 'world.']\n",
      "[(0, 0.5700679546502856)] | ['the', 'soccer', 'field', 'became', 'a', 'sacred', 'ground', 'for', 'the', 'local', 'community', 'and', 'a', 'way', 'to', 'glorify', 'jesus', 'christ.']\n",
      "[(0, 0.28980153629729605)] | ['a', 'divine', 'goal', 'changed', 'the', 'fate', 'of', 'the', 'underdog', 'team', 'thanks', 'to', 'the', 'great', 'passion', 'of', 'the', 'players.']\n",
      "[(0, 0.7975568794650282)] | ['soccer', 'players', 'prayed', 'together', 'before', 'a', 'crucial', 'match.', 'e.g.', 'messi']\n",
      "[(0, 0.5782949666969803)] | ['soccer', 'has', 'a', 'global', 'community.', 'the', 'team', 'was', 'awarded', 'a', 'medal.']\n",
      "[(0, 0.3596260221908575)] | ['religion', 'has', 'been', 'a', 'guiding', 'force', 'in', 'my', 'life,', 'helping', 'me', 'make', 'important', 'decisions.', 'thank', 'you', 'lord']\n",
      "[(1, 0.8660254037844384)] | ['prayer', 'and', 'meditation', 'are', 'essential', 'parts', 'of', 'my', 'religious', 'practice.']\n",
      "[(1, 0.7071067811865475)] | ['prayer', 'is', 'the', 'key.', 'do', 'not', 'forget', 'to', 'pray', 'together.']\n",
      "[(0, 0.4049990827491783)] | ['every', 'tongue', 'will', 'shout', 'that', 'jesus', 'is', 'the', 'lord.', 'religion', 'is', 'the', 'key', 'to', 'success.']\n",
      "[(1, 0.8660254037844384)] | ['religious', 'holidays', '(religion)', 'are', 'times', 'of', 'joy', 'and', 'reflection,', 'bringing', 'families', 'closer', 'together.']\n"
     ]
    }
   ],
   "source": [
    "for doc, as_text in zip(corpus_lsi, processed_corpus):\n",
    "    print(f\"{doc} | {as_text}\")"
   ]
  },
  {
   "cell_type": "markdown",
   "metadata": {},
   "source": [
    "<br>\n",
    "\n",
    "#### Comment\n",
    "\n",
    "```text\n",
    "Topic 0: Probably about soccer.\n",
    "(0, 0.7975568794650282)] | ['messi', 'is', 'the', 'best', 'soccer', 'player', 'in', 'the', 'world.']\n",
    "[(0, 0.5700679546502856)] | ['the', 'soccer', 'field', 'became', 'a', 'sacred', 'ground', 'for', 'the', 'local', 'community', 'and', 'a', 'way', 'to', 'glorify', 'jesus', 'christ.']\n",
    "\n",
    "# Topic 1: Probably about prayer/religious practice.\n",
    "[(1, 0.8660254037844384)] | ['prayer', 'and', 'meditation', 'are', 'essential', 'parts', 'of', 'my', 'religious', 'practice.']\n",
    "[(1, 0.7071067811865475)] | ['prayer', 'is', 'the', 'key.', 'do', 'not', 'forget', 'to', 'pray', 'together.']\n",
    "```"
   ]
  },
  {
   "cell_type": "markdown",
   "metadata": {},
   "source": [
    "<br><br>\n",
    "\n",
    "\n",
    "#### Save The Model\n",
    "\n"
   ]
  },
  {
   "cell_type": "code",
   "execution_count": 25,
   "metadata": {},
   "outputs": [],
   "source": [
    "# Save LSI model\n",
    "lsi_model.save(\"../models/lsi_model.lsi\")"
   ]
  },
  {
   "cell_type": "code",
   "execution_count": 27,
   "metadata": {},
   "outputs": [
    {
     "data": {
      "text/html": [
       "<pre style=\"white-space:pre;overflow-x:auto;line-height:normal;font-family:Menlo,'DejaVu Sans Mono',consolas,'Courier New',monospace\"><span style=\"font-weight: bold\">[</span>\n",
       "    <span style=\"font-weight: bold\">(</span>\n",
       "        <span style=\"color: #008080; text-decoration-color: #008080; font-weight: bold\">0</span>,\n",
       "        <span style=\"color: #008000; text-decoration-color: #008000\">'0.600*\"messi\" + 0.557*\"soccer\" + 0.339*\"jesus\" + 0.290*\"team\" + 0.274*\"has\" + 0.234*\"religion\" + </span>\n",
       "<span style=\"color: #008000; text-decoration-color: #008000\">0.000*\"religious\" + 0.000*\"are\" + 0.000*\"prayer\" + 0.000*\"together.\"'</span>\n",
       "    <span style=\"font-weight: bold\">)</span>,\n",
       "    <span style=\"font-weight: bold\">(</span>\n",
       "        <span style=\"color: #008080; text-decoration-color: #008080; font-weight: bold\">1</span>,\n",
       "        <span style=\"color: #008000; text-decoration-color: #008000\">'0.500*\"together.\" + 0.500*\"prayer\" + 0.500*\"are\" + 0.500*\"religious\" + -0.000*\"jesus\" + 0.000*\"team\" + </span>\n",
       "<span style=\"color: #008000; text-decoration-color: #008000\">-0.000*\"religion\" + 0.000*\"has\" + 0.000*\"messi\" + -0.000*\"soccer\"'</span>\n",
       "    <span style=\"font-weight: bold\">)</span>\n",
       "<span style=\"font-weight: bold\">]</span>\n",
       "</pre>\n"
      ],
      "text/plain": [
       "\u001b[1m[\u001b[0m\n",
       "    \u001b[1m(\u001b[0m\n",
       "        \u001b[1;36m0\u001b[0m,\n",
       "        \u001b[32m'0.600*\"messi\" + 0.557*\"soccer\" + 0.339*\"jesus\" + 0.290*\"team\" + 0.274*\"has\" + 0.234*\"religion\" + \u001b[0m\n",
       "\u001b[32m0.000*\"religious\" + 0.000*\"are\" + 0.000*\"prayer\" + 0.000*\"together.\"'\u001b[0m\n",
       "    \u001b[1m)\u001b[0m,\n",
       "    \u001b[1m(\u001b[0m\n",
       "        \u001b[1;36m1\u001b[0m,\n",
       "        \u001b[32m'0.500*\"together.\" + 0.500*\"prayer\" + 0.500*\"are\" + 0.500*\"religious\" + -0.000*\"jesus\" + 0.000*\"team\" + \u001b[0m\n",
       "\u001b[32m-0.000*\"religion\" + 0.000*\"has\" + 0.000*\"messi\" + -0.000*\"soccer\"'\u001b[0m\n",
       "    \u001b[1m)\u001b[0m\n",
       "\u001b[1m]\u001b[0m\n"
      ]
     },
     "metadata": {},
     "output_type": "display_data"
    }
   ],
   "source": [
    "# Load the model\n",
    "loaded_lsi_model = models.LsiModel.load(\"../models/lsi_model.lsi\")\n",
    "console.print(loaded_lsi_model.print_topics(num_topics=2))"
   ]
  },
  {
   "cell_type": "code",
   "execution_count": null,
   "metadata": {},
   "outputs": [],
   "source": []
  },
  {
   "cell_type": "code",
   "execution_count": null,
   "metadata": {},
   "outputs": [],
   "source": [
    "processed_corpus"
   ]
  },
  {
   "cell_type": "code",
   "execution_count": null,
   "metadata": {},
   "outputs": [],
   "source": [
    "models.LsiModel??"
   ]
  },
  {
   "cell_type": "code",
   "execution_count": null,
   "metadata": {},
   "outputs": [],
   "source": [
    "for vec in corpus_memory_friendly:\n",
    "    print(vec)\n",
    "    break"
   ]
  },
  {
   "cell_type": "code",
   "execution_count": null,
   "metadata": {},
   "outputs": [],
   "source": []
  },
  {
   "cell_type": "markdown",
   "metadata": {},
   "source": [
    "### Load Data"
   ]
  },
  {
   "cell_type": "code",
   "execution_count": null,
   "metadata": {},
   "outputs": [],
   "source": [
    "pl.Config.set_fmt_str_lengths(20)\n",
    "pl.set_random_seed(seed=123)\n",
    "\n",
    "\n",
    "fp: str = \"../data/articles_final_df.parquet\"\n",
    "articles_df: pl.DataFrame = pl.read_parquet(fp)\n",
    "print(f\"{articles_df.shape = }\")\n",
    "articles_df.head(2)"
   ]
  },
  {
   "cell_type": "code",
   "execution_count": null,
   "metadata": {},
   "outputs": [],
   "source": [
    "df: pl.DataFrame = pl.DataFrame(\n",
    "    {\n",
    "        \"id\": np.arange(0, 10),\n",
    "        \"text\": [\n",
    "            \"Messi is the best soccer player in the world.\",\n",
    "            \"The soccer field became a sacred ground for the local community and a way to glorify Jesus Christ.\",\n",
    "            \"A divine goal changed the fate of the underdog team thanks to the great passion of the players.\",\n",
    "            \"Soccer players prayed together before a crucial match. e.g. Messi\",\n",
    "            \"Soccer has a global community. The team was awarded a medal.\",\n",
    "            \"Religion has been a guiding force in my life, helping me make important decisions. Thank you Lord\",\n",
    "            \"Prayer and meditation are essential parts of my religious practice.\",\n",
    "            \"Prayer is the key. Do not forget to pray together.\",\n",
    "            \"Every tongue will shout that Jesus is the Lord. Religion is the key to success.\",\n",
    "            \"Religious holidays (religion) are times of joy and reflection, bringing families closer together.\",\n",
    "        ],\n",
    "    }\n",
    ")\n",
    "\n",
    "df.write_csv(\"../data/test.csv\")"
   ]
  },
  {
   "cell_type": "code",
   "execution_count": null,
   "metadata": {},
   "outputs": [],
   "source": []
  },
  {
   "cell_type": "code",
   "execution_count": null,
   "metadata": {},
   "outputs": [],
   "source": []
  },
  {
   "cell_type": "code",
   "execution_count": null,
   "metadata": {},
   "outputs": [],
   "source": []
  }
 ],
 "metadata": {
  "kernelspec": {
   "display_name": ".venv",
   "language": "python",
   "name": "python3"
  },
  "language_info": {
   "codemirror_mode": {
    "name": "ipython",
    "version": 3
   },
   "file_extension": ".py",
   "mimetype": "text/x-python",
   "name": "python",
   "nbconvert_exporter": "python",
   "pygments_lexer": "ipython3",
   "version": "3.10.8"
  }
 },
 "nbformat": 4,
 "nbformat_minor": 2
}
